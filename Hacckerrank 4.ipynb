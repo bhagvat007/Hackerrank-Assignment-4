{
 "cells": [
  {
   "cell_type": "markdown",
   "id": "8cf83228",
   "metadata": {},
   "source": [
    "# Classes: Dealing with Complex Numbers"
   ]
  },
  {
   "cell_type": "code",
   "execution_count": 2,
   "id": "f9f5b391",
   "metadata": {},
   "outputs": [
    {
     "name": "stdout",
     "output_type": "stream",
     "text": [
      "2 1\n",
      "9 6\n",
      "11.00+7.00i\n",
      "-7.00-5.00i\n",
      "12.00+21.00i\n",
      "0.21-0.03i\n",
      "2.24+0.00i\n",
      "10.82+0.00i\n"
     ]
    }
   ],
   "source": [
    "import math\n",
    "\n",
    "class Complex(object):\n",
    "    def __init__(self, real, imaginary):\n",
    "        self.real = real\n",
    "        self.imaginary = imaginary\n",
    "        \n",
    "    def __add__(self, no):\n",
    "        return Complex(self.real+no.real, self.imaginary+no.imaginary)\n",
    "        \n",
    "    def __sub__(self, no):\n",
    "        return Complex(self.real-no.real, self.imaginary-no.imaginary)\n",
    "        \n",
    "    def __mul__(self, no):\n",
    "        r=self.real*no.real-self.imaginary*no.imaginary\n",
    "        i=self.real*no.imaginary+self.imaginary*no.real\n",
    "        return Complex(r,i)\n",
    "\n",
    "    def __truediv__(self, no):\n",
    "        d=no.real**2+no.imaginary**2\n",
    "        n=self*Complex(no.real,-1*no.imaginary)\n",
    "        return Complex(n.real/d,n.imaginary/d)\n",
    "    \n",
    "    def mod(self):\n",
    "        d=self.real**2+self.imaginary**2\n",
    "        return Complex(math.sqrt(d),0)\n",
    "    \n",
    "    def __str__(self):\n",
    "        if self.imaginary == 0:\n",
    "            result = \"%.2f+0.00i\" % (self.real)\n",
    "        elif self.real == 0:\n",
    "            if self.imaginary >= 0:\n",
    "                result = \"0.00+%.2fi\" % (self.imaginary)\n",
    "            else:\n",
    "                result = \"0.00-%.2fi\" % (abs(self.imaginary))\n",
    "        elif self.imaginary > 0:\n",
    "            result = \"%.2f+%.2fi\" % (self.real, self.imaginary)\n",
    "        else:\n",
    "            result = \"%.2f-%.2fi\" % (self.real, abs(self.imaginary))\n",
    "        return result\n",
    "\n",
    "if __name__ == '__main__':\n",
    "    c = map(float, input().split())\n",
    "    d = map(float, input().split())\n",
    "    x = Complex(*c)\n",
    "    y = Complex(*d)\n",
    "    print(*map(str, [x+y, x-y, x*y, x/y, x.mod(), y.mod()]), sep='\\n')\n"
   ]
  },
  {
   "cell_type": "markdown",
   "id": "2fc2369c",
   "metadata": {},
   "source": [
    "# Class 2 - Find the Torsional Angle"
   ]
  },
  {
   "cell_type": "code",
   "execution_count": 3,
   "id": "ea95476d",
   "metadata": {},
   "outputs": [
    {
     "name": "stdout",
     "output_type": "stream",
     "text": [
      "0 4 5\n",
      "1 7 6\n",
      "0 5 9\n",
      "1 7 2\n",
      "8.19\n"
     ]
    }
   ],
   "source": [
    "import math\n",
    "\n",
    "class Points(object):\n",
    "    def __init__(self, x, y, z):\n",
    "        self.x=x\n",
    "        self.y=y\n",
    "        self.z=z\n",
    "\n",
    "    def __sub__(self, no):\n",
    "        x = self.x - no.x\n",
    "        y = self.y - no.y\n",
    "        z = self.z - no.z\n",
    "        return Points(x, y, z)\n",
    "\n",
    "    def dot(self, no):\n",
    "        x = self.x * no.x\n",
    "        y = self.y * no.y\n",
    "        z = self.z * no.z\n",
    "        return x + y+ z\n",
    "    \n",
    "    def cross(self, no):\n",
    "        x = self.y * no.z - self.z * no.y\n",
    "        y = self.z * no.x - self.x * no.z\n",
    "        z = self.x * no.y - self.y * no.x\n",
    "        return Points(x, y, z)\n",
    "    \n",
    "    def absolute(self):\n",
    "        return pow((self.x ** 2 + self.y ** 2 + self.z ** 2), 0.5)\n",
    "\n",
    "if __name__ == '__main__':\n",
    "    points = list()\n",
    "    for i in range(4):\n",
    "        a = list(map(float, input().split()))\n",
    "        points.append(a)\n",
    "\n",
    "    a, b, c, d = Points(*points[0]), Points(*points[1]), Points(*points[2]), Points(*points[3])\n",
    "    x = (b - a).cross(c - b)\n",
    "    y = (c - b).cross(d - c)\n",
    "    angle = math.acos(x.dot(y) / (x.absolute() * y.absolute()))\n",
    "\n",
    "    print(\"%.2f\" % math.degrees(angle))"
   ]
  },
  {
   "cell_type": "code",
   "execution_count": null,
   "id": "bc8ade85",
   "metadata": {},
   "outputs": [],
   "source": []
  }
 ],
 "metadata": {
  "kernelspec": {
   "display_name": "Python 3 (ipykernel)",
   "language": "python",
   "name": "python3"
  },
  "language_info": {
   "codemirror_mode": {
    "name": "ipython",
    "version": 3
   },
   "file_extension": ".py",
   "mimetype": "text/x-python",
   "name": "python",
   "nbconvert_exporter": "python",
   "pygments_lexer": "ipython3",
   "version": "3.10.0"
  }
 },
 "nbformat": 4,
 "nbformat_minor": 5
}
